{
 "cells": [
  {
   "cell_type": "code",
   "execution_count": 1,
   "id": "28e6e830",
   "metadata": {},
   "outputs": [],
   "source": [
    "import numpy as np\n",
    "import pandas as pd\n",
    "import matplotlib.pyplot as plt"
   ]
  },
  {
   "cell_type": "code",
   "execution_count": 2,
   "id": "7e4cb7a3",
   "metadata": {},
   "outputs": [],
   "source": [
    "data=pd.read_csv('C:/Users/Tony/Desktop/orginal.csv',parse_dates = ['T'])[['T','AT']]"
   ]
  },
  {
   "cell_type": "code",
   "execution_count": 3,
   "id": "1b20fcac",
   "metadata": {},
   "outputs": [
    {
     "data": {
      "text/plain": [
       "1726"
      ]
     },
     "execution_count": 3,
     "metadata": {},
     "output_type": "execute_result"
    }
   ],
   "source": [
    "training_data_len=int(np.ceil( len(data['AT']) * .95 )) #get the 95% of rows\n",
    "training_data_len"
   ]
  },
  {
   "cell_type": "code",
   "execution_count": 4,
   "id": "e5849805",
   "metadata": {},
   "outputs": [],
   "source": [
    "AT=np.array(data['AT'])\n",
    "temp_values=AT.reshape(AT.shape[0],1)"
   ]
  },
  {
   "cell_type": "code",
   "execution_count": 5,
   "id": "514450c0",
   "metadata": {},
   "outputs": [
    {
     "data": {
      "text/plain": [
       "array([[0.89885103],\n",
       "       [0.91704855],\n",
       "       [0.90961015],\n",
       "       ...,\n",
       "       [0.96387062],\n",
       "       [0.8364216 ],\n",
       "       [0.68101215]])"
      ]
     },
     "execution_count": 5,
     "metadata": {},
     "output_type": "execute_result"
    }
   ],
   "source": [
    "from sklearn.preprocessing import MinMaxScaler #preprocessing\n",
    "scaler = MinMaxScaler(feature_range=(0,1))\n",
    "scaled_data = scaler.fit_transform(temp_values)\n",
    "\n",
    "scaled_data"
   ]
  },
  {
   "cell_type": "code",
   "execution_count": 6,
   "id": "eb5898a0",
   "metadata": {},
   "outputs": [
    {
     "name": "stdout",
     "output_type": "stream",
     "text": [
      "[array([0.89885103, 0.91704855, 0.90961015, 0.92687786, 0.82353723,\n",
      "       0.87600452, 0.85481836, 0.70173341, 0.91027429, 0.88138407,\n",
      "       0.84027363, 0.51205419, 0.84439131, 0.88629873, 0.84744637,\n",
      "       0.70744504, 0.55137146, 0.53802218, 0.8499037 , 0.70392508,\n",
      "       0.56100153, 0.85070067, 0.82971375, 0.88231387, 0.68718868,\n",
      "       0.69861194, 0.71036727, 0.83960948, 0.6891147 , 0.57282327,\n",
      "       0.81981802, 0.66600252, 0.8554825 , 0.75599389, 0.84937238,\n",
      "       0.93564455, 0.88324367, 0.72976024, 0.78601315, 0.87746563,\n",
      "       0.93385136, 0.8615262 , 0.75991233, 0.51796507, 0.83416351,\n",
      "       0.88576742, 0.73208474, 0.56325961, 0.82978017, 0.91133692,\n",
      "       0.88118483, 0.74895397, 0.56392376, 0.68971243, 0.85109916,\n",
      "       0.91053995, 0.87846184, 0.72717009, 0.56936973, 0.23636847])]\n",
      "[0.5031546788868964]\n",
      "\n",
      "[array([0.89885103, 0.91704855, 0.90961015, 0.92687786, 0.82353723,\n",
      "       0.87600452, 0.85481836, 0.70173341, 0.91027429, 0.88138407,\n",
      "       0.84027363, 0.51205419, 0.84439131, 0.88629873, 0.84744637,\n",
      "       0.70744504, 0.55137146, 0.53802218, 0.8499037 , 0.70392508,\n",
      "       0.56100153, 0.85070067, 0.82971375, 0.88231387, 0.68718868,\n",
      "       0.69861194, 0.71036727, 0.83960948, 0.6891147 , 0.57282327,\n",
      "       0.81981802, 0.66600252, 0.8554825 , 0.75599389, 0.84937238,\n",
      "       0.93564455, 0.88324367, 0.72976024, 0.78601315, 0.87746563,\n",
      "       0.93385136, 0.8615262 , 0.75991233, 0.51796507, 0.83416351,\n",
      "       0.88576742, 0.73208474, 0.56325961, 0.82978017, 0.91133692,\n",
      "       0.88118483, 0.74895397, 0.56392376, 0.68971243, 0.85109916,\n",
      "       0.91053995, 0.87846184, 0.72717009, 0.56936973, 0.23636847]), array([0.91704855, 0.90961015, 0.92687786, 0.82353723, 0.87600452,\n",
      "       0.85481836, 0.70173341, 0.91027429, 0.88138407, 0.84027363,\n",
      "       0.51205419, 0.84439131, 0.88629873, 0.84744637, 0.70744504,\n",
      "       0.55137146, 0.53802218, 0.8499037 , 0.70392508, 0.56100153,\n",
      "       0.85070067, 0.82971375, 0.88231387, 0.68718868, 0.69861194,\n",
      "       0.71036727, 0.83960948, 0.6891147 , 0.57282327, 0.81981802,\n",
      "       0.66600252, 0.8554825 , 0.75599389, 0.84937238, 0.93564455,\n",
      "       0.88324367, 0.72976024, 0.78601315, 0.87746563, 0.93385136,\n",
      "       0.8615262 , 0.75991233, 0.51796507, 0.83416351, 0.88576742,\n",
      "       0.73208474, 0.56325961, 0.82978017, 0.91133692, 0.88118483,\n",
      "       0.74895397, 0.56392376, 0.68971243, 0.85109916, 0.91053995,\n",
      "       0.87846184, 0.72717009, 0.56936973, 0.23636847, 0.50315468])]\n",
      "[0.5031546788868964, 0.8471142989971441]\n",
      "\n"
     ]
    }
   ],
   "source": [
    "# Create the training data set \n",
    "# Create the scaled training data set\n",
    "train_data = scaled_data[0:int(training_data_len), :]\n",
    "# Split the data into x_train and y_train data sets\n",
    "x_train = []\n",
    "y_train = []\n",
    "\n",
    "for i in range(60, len(train_data)):\n",
    "    x_train.append(train_data[i-60:i, 0])\n",
    "    y_train.append(train_data[i, 0])\n",
    "    if i<= 61:\n",
    "        print(x_train)\n",
    "        print(y_train)\n",
    "        print()\n",
    "        \n",
    "# Convert the x_train and y_train to numpy arrays \n",
    "x_train, y_train = np.array(x_train), np.array(y_train)\n",
    "\n",
    "# Reshape the data\n",
    "x_train = np.reshape(x_train, (x_train.shape[0], x_train.shape[1], 1))\n",
    "# x_train.shape"
   ]
  },
  {
   "cell_type": "code",
   "execution_count": 9,
   "id": "d01b5616",
   "metadata": {},
   "outputs": [
    {
     "name": "stdout",
     "output_type": "stream",
     "text": [
      "Epoch 1/5\n",
      "34/34 [==============================] - 2s 13ms/step - loss: 0.1010\n",
      "Epoch 2/5\n",
      "34/34 [==============================] - 0s 8ms/step - loss: 0.0565\n",
      "Epoch 3/5\n",
      "34/34 [==============================] - 0s 8ms/step - loss: 0.0084\n",
      "Epoch 4/5\n",
      "34/34 [==============================] - 0s 8ms/step - loss: 0.0045\n",
      "Epoch 5/5\n",
      "34/34 [==============================] - 0s 8ms/step - loss: 0.0037\n",
      "<keras.engine.sequential.Sequential object at 0x000001EEA1039160>\n"
     ]
    }
   ],
   "source": [
    "from keras.models import Sequential\n",
    "from keras.layers import Dense, LSTM\n",
    "\n",
    "# Build the LSTM model\n",
    "model = Sequential()\n",
    "model.add(LSTM(128, return_sequences=True, input_shape= (x_train.shape[1], 1)))\n",
    "model.add(LSTM(64, return_sequences=False))\n",
    "model.add(Dense(25))\n",
    "model.add(Dense(1))\n",
    "\n",
    "# Compile the model\n",
    "model.compile(optimizer='adam', loss='mean_squared_error')\n",
    "\n",
    "# Train the model\n",
    "model.fit(x_train, y_train, batch_size=50, epochs=5)"
   ]
  },
  {
   "cell_type": "code",
   "execution_count": 12,
   "id": "53cda506",
   "metadata": {},
   "outputs": [
    {
     "name": "stdout",
     "output_type": "stream",
     "text": [
      "Model: \"sequential_2\"\n",
      "_________________________________________________________________\n",
      " Layer (type)                Output Shape              Param #   \n",
      "=================================================================\n",
      " lstm_4 (LSTM)               (None, 60, 128)           66560     \n",
      "                                                                 \n",
      " lstm_5 (LSTM)               (None, 64)                49408     \n",
      "                                                                 \n",
      " dense_4 (Dense)             (None, 25)                1625      \n",
      "                                                                 \n",
      " dense_5 (Dense)             (None, 1)                 26        \n",
      "                                                                 \n",
      "=================================================================\n",
      "Total params: 117,619\n",
      "Trainable params: 117,619\n",
      "Non-trainable params: 0\n",
      "_________________________________________________________________\n"
     ]
    }
   ],
   "source": [
    "model.summary()"
   ]
  },
  {
   "cell_type": "code",
   "execution_count": null,
   "id": "0d713b62",
   "metadata": {},
   "outputs": [],
   "source": [
    "# Create the testing data set\n",
    "# Create a new array containing scaled values from index 1543 to 2002 \n",
    "test_data = scaled_data[training_data_len - 60: , :]\n",
    "# Create the data sets x_test and y_test\n",
    "x_test = []\n",
    "y_test = temp_values[training_data_len:, :]\n",
    "for i in range(60, len(test_data)):\n",
    "    x_test.append(test_data[i-60:i, 0])\n",
    "    \n",
    "# Convert the data to a numpy array\n",
    "x_test = np.array(x_test)\n",
    "\n",
    "# Reshape the data\n",
    "x_test = np.reshape(x_test, (x_test.shape[0], x_test.shape[1], 1 ))\n",
    "\n",
    "# Get the models predicted price values \n",
    "predictions = model.predict(x_test)\n",
    "predictions = scaler.inverse_transform(predictions)\n",
    "\n",
    "# Get the root mean squared error (RMSE)\n",
    "rmse = np.sqrt(np.mean(((predictions - y_test) ** 2)))\n",
    "rmse"
   ]
  },
  {
   "cell_type": "code",
   "execution_count": null,
   "id": "38dba8da",
   "metadata": {},
   "outputs": [],
   "source": [
    "temperature=data['AT']\n",
    "train = temperature[:training_data_len]\n",
    "valid=pd.DataFrame(columns=['AvgTemperature', 'Predictions'])\n",
    "valid['AvgTemperature'] = temperature[training_data_len:]\n",
    "valid['Predictions'] = predictions\n",
    "# Visualize the data\n",
    "plt.figure(figsize=(16,6))\n",
    "plt.title('Model')\n",
    "plt.xlabel('Date', fontsize=18)\n",
    "plt.ylabel('AvgTemperature', fontsize=18)\n",
    "plt.plot(train)\n",
    "plt.plot(valid[['AvgTemperature', 'Predictions']])\n",
    "plt.legend(['Train', 'Val', 'Predictions'], loc='lower right')\n",
    "# plt.show()\n",
    "plt.savefig('plot1_2_2_month.png', dpi=300) #指定分辨率保存"
   ]
  }
 ],
 "metadata": {
  "kernelspec": {
   "display_name": "Python 3 (ipykernel)",
   "language": "python",
   "name": "python3"
  },
  "language_info": {
   "codemirror_mode": {
    "name": "ipython",
    "version": 3
   },
   "file_extension": ".py",
   "mimetype": "text/x-python",
   "name": "python",
   "nbconvert_exporter": "python",
   "pygments_lexer": "ipython3",
   "version": "3.8.2"
  }
 },
 "nbformat": 4,
 "nbformat_minor": 5
}
