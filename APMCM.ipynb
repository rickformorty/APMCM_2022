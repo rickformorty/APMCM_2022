{
 "cells": [
  {
   "cell_type": "code",
   "execution_count": 10,
   "id": "70a3cac9",
   "metadata": {},
   "outputs": [],
   "source": [
    "import numpy as np\n",
    "import pandas as pd\n",
    "import matplotlib.pyplot as plt\n",
    "import time"
   ]
  },
  {
   "cell_type": "code",
   "execution_count": 11,
   "id": "d87e640b",
   "metadata": {},
   "outputs": [],
   "source": [
    "df = pd.read_csv(r'D:\\Code\\Code\\apmcm\\2022_APMCM_C_Data.csv',encoding='ANSI',parse_dates = ['dt'])"
   ]
  },
  {
   "cell_type": "code",
   "execution_count": 12,
   "id": "1dec5436",
   "metadata": {},
   "outputs": [
    {
     "data": {
      "text/plain": [
       "(239177, 7)"
      ]
     },
     "execution_count": 12,
     "metadata": {},
     "output_type": "execute_result"
    }
   ],
   "source": [
    "df.shape"
   ]
  },
  {
   "cell_type": "code",
   "execution_count": 13,
   "id": "7f3c0743",
   "metadata": {},
   "outputs": [
    {
     "name": "stdout",
     "output_type": "stream",
     "text": [
      "<class 'pandas.core.frame.DataFrame'>\n",
      "RangeIndex: 239177 entries, 0 to 239176\n",
      "Data columns (total 7 columns):\n",
      " #   Column                         Non-Null Count   Dtype         \n",
      "---  ------                         --------------   -----         \n",
      " 0   dt                             239177 non-null  datetime64[ns]\n",
      " 1   AverageTemperature             228175 non-null  float64       \n",
      " 2   AverageTemperatureUncertainty  228175 non-null  float64       \n",
      " 3   City                           239177 non-null  object        \n",
      " 4   Country                        239177 non-null  object        \n",
      " 5   Latitude                       239177 non-null  object        \n",
      " 6   Longitude                      239177 non-null  object        \n",
      "dtypes: datetime64[ns](1), float64(2), object(4)\n",
      "memory usage: 12.8+ MB\n"
     ]
    }
   ],
   "source": [
    "df.info()"
   ]
  },
  {
   "cell_type": "code",
   "execution_count": 14,
   "id": "af6673ff",
   "metadata": {},
   "outputs": [
    {
     "data": {
      "text/html": [
       "<div>\n",
       "<style scoped>\n",
       "    .dataframe tbody tr th:only-of-type {\n",
       "        vertical-align: middle;\n",
       "    }\n",
       "\n",
       "    .dataframe tbody tr th {\n",
       "        vertical-align: top;\n",
       "    }\n",
       "\n",
       "    .dataframe thead th {\n",
       "        text-align: right;\n",
       "    }\n",
       "</style>\n",
       "<table border=\"1\" class=\"dataframe\">\n",
       "  <thead>\n",
       "    <tr style=\"text-align: right;\">\n",
       "      <th></th>\n",
       "      <th>AverageTemperature</th>\n",
       "      <th>AverageTemperatureUncertainty</th>\n",
       "    </tr>\n",
       "  </thead>\n",
       "  <tbody>\n",
       "    <tr>\n",
       "      <th>count</th>\n",
       "      <td>228175.000000</td>\n",
       "      <td>228175.000000</td>\n",
       "    </tr>\n",
       "    <tr>\n",
       "      <th>mean</th>\n",
       "      <td>18.125969</td>\n",
       "      <td>0.969343</td>\n",
       "    </tr>\n",
       "    <tr>\n",
       "      <th>std</th>\n",
       "      <td>10.024800</td>\n",
       "      <td>0.979644</td>\n",
       "    </tr>\n",
       "    <tr>\n",
       "      <th>min</th>\n",
       "      <td>-26.772000</td>\n",
       "      <td>0.040000</td>\n",
       "    </tr>\n",
       "    <tr>\n",
       "      <th>25%</th>\n",
       "      <td>12.710000</td>\n",
       "      <td>0.340000</td>\n",
       "    </tr>\n",
       "    <tr>\n",
       "      <th>50%</th>\n",
       "      <td>20.428000</td>\n",
       "      <td>0.592000</td>\n",
       "    </tr>\n",
       "    <tr>\n",
       "      <th>75%</th>\n",
       "      <td>25.918000</td>\n",
       "      <td>1.320000</td>\n",
       "    </tr>\n",
       "    <tr>\n",
       "      <th>max</th>\n",
       "      <td>38.283000</td>\n",
       "      <td>14.037000</td>\n",
       "    </tr>\n",
       "  </tbody>\n",
       "</table>\n",
       "</div>"
      ],
      "text/plain": [
       "       AverageTemperature  AverageTemperatureUncertainty\n",
       "count       228175.000000                  228175.000000\n",
       "mean            18.125969                       0.969343\n",
       "std             10.024800                       0.979644\n",
       "min            -26.772000                       0.040000\n",
       "25%             12.710000                       0.340000\n",
       "50%             20.428000                       0.592000\n",
       "75%             25.918000                       1.320000\n",
       "max             38.283000                      14.037000"
      ]
     },
     "execution_count": 14,
     "metadata": {},
     "output_type": "execute_result"
    }
   ],
   "source": [
    "df.describe()"
   ]
  },
  {
   "cell_type": "code",
   "execution_count": 6,
   "id": "d1868fb1",
   "metadata": {},
   "outputs": [
    {
     "data": {
      "text/plain": [
       "dt                                   0\n",
       "AverageTemperature               11002\n",
       "AverageTemperatureUncertainty    11002\n",
       "City                                 0\n",
       "Country                              0\n",
       "Latitude                             0\n",
       "Longitude                            0\n",
       "dtype: int64"
      ]
     },
     "execution_count": 6,
     "metadata": {},
     "output_type": "execute_result"
    }
   ],
   "source": [
    "df.isnull().sum()"
   ]
  },
  {
   "cell_type": "code",
   "execution_count": 7,
   "id": "a438a6a5",
   "metadata": {},
   "outputs": [
    {
     "data": {
      "text/plain": [
       "4.599940629742826"
      ]
     },
     "execution_count": 7,
     "metadata": {},
     "output_type": "execute_result"
    }
   ],
   "source": [
    "df.isnull().sum()['AverageTemperature']/len(df['AverageTemperature'])*100"
   ]
  },
  {
   "cell_type": "code",
   "execution_count": 36,
   "id": "f8ea98b0",
   "metadata": {},
   "outputs": [
    {
     "data": {
      "text/html": [
       "<div>\n",
       "<style scoped>\n",
       "    .dataframe tbody tr th:only-of-type {\n",
       "        vertical-align: middle;\n",
       "    }\n",
       "\n",
       "    .dataframe tbody tr th {\n",
       "        vertical-align: top;\n",
       "    }\n",
       "\n",
       "    .dataframe thead th {\n",
       "        text-align: right;\n",
       "    }\n",
       "</style>\n",
       "<table border=\"1\" class=\"dataframe\">\n",
       "  <thead>\n",
       "    <tr style=\"text-align: right;\">\n",
       "      <th></th>\n",
       "      <th>dt</th>\n",
       "      <th>AverageTemperature</th>\n",
       "      <th>AverageTemperatureUncertainty</th>\n",
       "      <th>City</th>\n",
       "      <th>Country</th>\n",
       "      <th>Latitude</th>\n",
       "      <th>Longitude</th>\n",
       "    </tr>\n",
       "  </thead>\n",
       "  <tbody>\n",
       "    <tr>\n",
       "      <th>0</th>\n",
       "      <td>1833-01-01</td>\n",
       "      <td>2.290</td>\n",
       "      <td>2.487</td>\n",
       "      <td>Kabul</td>\n",
       "      <td>Afghanistan</td>\n",
       "      <td>34.56N</td>\n",
       "      <td>70.05E</td>\n",
       "    </tr>\n",
       "    <tr>\n",
       "      <th>1</th>\n",
       "      <td>1833-02-01</td>\n",
       "      <td>3.319</td>\n",
       "      <td>2.325</td>\n",
       "      <td>Kabul</td>\n",
       "      <td>Afghanistan</td>\n",
       "      <td>34.56N</td>\n",
       "      <td>70.05E</td>\n",
       "    </tr>\n",
       "    <tr>\n",
       "      <th>2</th>\n",
       "      <td>1833-03-01</td>\n",
       "      <td>7.444</td>\n",
       "      <td>2.733</td>\n",
       "      <td>Kabul</td>\n",
       "      <td>Afghanistan</td>\n",
       "      <td>34.56N</td>\n",
       "      <td>70.05E</td>\n",
       "    </tr>\n",
       "    <tr>\n",
       "      <th>3</th>\n",
       "      <td>1833-04-01</td>\n",
       "      <td>13.576</td>\n",
       "      <td>2.266</td>\n",
       "      <td>Kabul</td>\n",
       "      <td>Afghanistan</td>\n",
       "      <td>34.56N</td>\n",
       "      <td>70.05E</td>\n",
       "    </tr>\n",
       "    <tr>\n",
       "      <th>4</th>\n",
       "      <td>1833-05-01</td>\n",
       "      <td>19.321</td>\n",
       "      <td>2.362</td>\n",
       "      <td>Kabul</td>\n",
       "      <td>Afghanistan</td>\n",
       "      <td>34.56N</td>\n",
       "      <td>70.05E</td>\n",
       "    </tr>\n",
       "  </tbody>\n",
       "</table>\n",
       "</div>"
      ],
      "text/plain": [
       "          dt  AverageTemperature  AverageTemperatureUncertainty   City  \\\n",
       "0 1833-01-01               2.290                          2.487  Kabul   \n",
       "1 1833-02-01               3.319                          2.325  Kabul   \n",
       "2 1833-03-01               7.444                          2.733  Kabul   \n",
       "3 1833-04-01              13.576                          2.266  Kabul   \n",
       "4 1833-05-01              19.321                          2.362  Kabul   \n",
       "\n",
       "       Country Latitude Longitude  \n",
       "0  Afghanistan   34.56N    70.05E  \n",
       "1  Afghanistan   34.56N    70.05E  \n",
       "2  Afghanistan   34.56N    70.05E  \n",
       "3  Afghanistan   34.56N    70.05E  \n",
       "4  Afghanistan   34.56N    70.05E  "
      ]
     },
     "execution_count": 36,
     "metadata": {},
     "output_type": "execute_result"
    }
   ],
   "source": [
    "df.head()"
   ]
  },
  {
   "cell_type": "code",
   "execution_count": 34,
   "id": "c3f41d23",
   "metadata": {},
   "outputs": [
    {
     "data": {
      "text/plain": [
       "count     239177\n",
       "unique        48\n",
       "top        China\n",
       "freq       37517\n",
       "Name: Country, dtype: object"
      ]
     },
     "execution_count": 34,
     "metadata": {},
     "output_type": "execute_result"
    }
   ],
   "source": [
    "# df['Country'].describe()"
   ]
  },
  {
   "cell_type": "code",
   "execution_count": 6,
   "id": "67ddee05",
   "metadata": {},
   "outputs": [],
   "source": [
    "# df_stat = df.groupby('Country').agg(['min','max'])\n",
    "# df_stat.head(8)"
   ]
  },
  {
   "cell_type": "code",
   "execution_count": 49,
   "id": "041355be",
   "metadata": {},
   "outputs": [
    {
     "name": "stderr",
     "output_type": "stream",
     "text": [
      "C:\\Users\\Tony\\AppData\\Local\\Temp\\ipykernel_21900\\98026833.py:3: SettingWithCopyWarning: \n",
      "A value is trying to be set on a copy of a slice from a DataFrame.\n",
      "Try using .loc[row_indexer,col_indexer] = value instead\n",
      "\n",
      "See the caveats in the documentation: https://pandas.pydata.org/pandas-docs/stable/user_guide/indexing.html#returning-a-view-versus-a-copy\n",
      "  df_Changchun['year']=df_Changchun['dt'].dt.year\n"
     ]
    }
   ],
   "source": [
    "# df_China = df[df['Country']=='China']\n",
    "# df_Changchun =df_China[df_China['City']=='Changchun']\n",
    "# df_Changchun['year']=df_Changchun['dt'].dt.year\n",
    "# df_Changchun=pd.DataFrame(df_Changchun.groupby(['year'])['AverageTemperature'].mean())"
   ]
  },
  {
   "cell_type": "code",
   "execution_count": 1,
   "id": "f723499c",
   "metadata": {
    "scrolled": true
   },
   "outputs": [
    {
     "ename": "NameError",
     "evalue": "name 'df_Changchun' is not defined",
     "output_type": "error",
     "traceback": [
      "\u001b[1;31m---------------------------------------------------------------------------\u001b[0m",
      "\u001b[1;31mNameError\u001b[0m                                 Traceback (most recent call last)",
      "Cell \u001b[1;32mIn [1], line 1\u001b[0m\n\u001b[1;32m----> 1\u001b[0m \u001b[43mdf_Changchun\u001b[49m\u001b[38;5;241m.\u001b[39mto_csv(\u001b[38;5;124m'\u001b[39m\u001b[38;5;124mChangchun.csv\u001b[39m\u001b[38;5;124m'\u001b[39m)\n",
      "\u001b[1;31mNameError\u001b[0m: name 'df_Changchun' is not defined"
     ]
    }
   ],
   "source": [
    "# df_Changchun.to_csv('Changchun.csv')"
   ]
  },
  {
   "cell_type": "code",
   "execution_count": 17,
   "id": "b3caf1a1",
   "metadata": {},
   "outputs": [],
   "source": [
    "data=df\n",
    "data1=df[df['dt'].dt.year.isin(np.arange(1910,1911))]\n",
    "data2=df[df['dt'].dt.year.isin(np.arange(2010,2011))]"
   ]
  },
  {
   "cell_type": "code",
   "execution_count": 18,
   "id": "2e4a4fd1",
   "metadata": {},
   "outputs": [],
   "source": [
    "data1910=pd.DataFrame(data1.groupby(['Country'])['AverageTemperature'].mean())\n",
    "data1910.to_csv('1910.csv')\n",
    "data1910=pd.DataFrame(data2.groupby(['Country'])['AverageTemperature'].mean())\n",
    "data1910.to_csv('2010.csv')"
   ]
  },
  {
   "cell_type": "code",
   "execution_count": 8,
   "id": "8663433c",
   "metadata": {},
   "outputs": [],
   "source": [
    "# df_China.isnull().sum()"
   ]
  },
  {
   "cell_type": "code",
   "execution_count": 9,
   "id": "187efa82",
   "metadata": {},
   "outputs": [],
   "source": [
    "# df_China=df_China.dropna()"
   ]
  },
  {
   "cell_type": "code",
   "execution_count": 10,
   "id": "bdc1da0d",
   "metadata": {},
   "outputs": [],
   "source": [
    "# df_China.isnull().sum()"
   ]
  },
  {
   "cell_type": "code",
   "execution_count": 11,
   "id": "5a75b35b",
   "metadata": {},
   "outputs": [],
   "source": [
    "# df_China['year']=df_China['dt'].dt.year\n",
    "# df_China['month']=df_China['dt'].dt.month\n",
    "# df_China.info()"
   ]
  },
  {
   "cell_type": "code",
   "execution_count": 12,
   "id": "cf4920a2",
   "metadata": {},
   "outputs": [],
   "source": [
    "# df['year']=df['dt'].dt.year\n",
    "# df['month']=df['dt'].dt.month\n",
    "# df.info()"
   ]
  },
  {
   "cell_type": "code",
   "execution_count": 13,
   "id": "4b17c4b4",
   "metadata": {},
   "outputs": [
    {
     "data": {
      "text/plain": [
       "dt                               0\n",
       "AverageTemperature               0\n",
       "AverageTemperatureUncertainty    0\n",
       "City                             0\n",
       "Country                          0\n",
       "Latitude                         0\n",
       "Longitude                        0\n",
       "dtype: int64"
      ]
     },
     "execution_count": 13,
     "metadata": {},
     "output_type": "execute_result"
    }
   ],
   "source": [
    "# df['AverageTemperature'].interpolate(inplace=True)#线性插值\n",
    "df=df.dropna()\n",
    "# df['AverageTemperatureUncertainty'].fillna(df['AverageTemperatureUncertainty'].mean(),inplace=True)#平均值赋值\n",
    "df.isnull().sum()"
   ]
  },
  {
   "cell_type": "code",
   "execution_count": 14,
   "id": "1faf7026",
   "metadata": {},
   "outputs": [],
   "source": [
    "# df_nan_index=df.loc[df['AverageTemperature'].isnull()].index.tolist()\n",
    "# x1=df['year'][df_nan_index].drop_duplicates()"
   ]
  },
  {
   "cell_type": "code",
   "execution_count": 26,
   "id": "f956d9e7",
   "metadata": {},
   "outputs": [],
   "source": [
    "# data=df[df['dt'].dt.year.isin(np.arange(1992,1993))]\n",
    "# data_2=data[data['dt'].dt.month.isin(np.arange(1,2))]\n",
    "# data_2.to_csv('1992year.csv')"
   ]
  },
  {
   "cell_type": "code",
   "execution_count": 16,
   "id": "b1c24448",
   "metadata": {},
   "outputs": [],
   "source": [
    "data_1=data.groupby('dt')['AverageTemperature'].mean()"
   ]
  }
 ],
 "metadata": {
  "kernelspec": {
   "display_name": "Python 3 (ipykernel)",
   "language": "python",
   "name": "python3"
  },
  "language_info": {
   "codemirror_mode": {
    "name": "ipython",
    "version": 3
   },
   "file_extension": ".py",
   "mimetype": "text/x-python",
   "name": "python",
   "nbconvert_exporter": "python",
   "pygments_lexer": "ipython3",
   "version": "3.8.2"
  }
 },
 "nbformat": 4,
 "nbformat_minor": 5
}
