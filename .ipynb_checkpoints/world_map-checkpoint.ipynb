{
 "cells": [
  {
   "cell_type": "code",
   "execution_count": 1,
   "id": "d07255c2",
   "metadata": {},
   "outputs": [],
   "source": [
    "import numpy as np\n",
    "import pandas as pd\n",
    "import matplotlib.pyplot as plt\n",
    "\n",
    "from pyecharts import options as opts\n",
    "from pyecharts.charts import Map\n",
    "from pyecharts.faker import Faker"
   ]
  },
  {
   "cell_type": "code",
   "execution_count": 2,
   "id": "7315869f",
   "metadata": {},
   "outputs": [],
   "source": [
    "def worldmap_draw(city,value):\n",
    "    data = []\n",
    "    for i in range(len(city)):\n",
    "        city_ionfo=[city[i],value[i]]\n",
    "        data.append(city_ionfo)\n",
    "    c = (\n",
    "    Map()\n",
    "    .add(\"heatmap\",data, \"world\")\n",
    "    .set_series_opts(label_opts=opts.LabelOpts(is_show=False))\n",
    "    .set_global_opts(\n",
    "        title_opts=opts.TitleOpts(title=\"Global_AverageTemperature\"),\n",
    "        visualmap_opts=opts.VisualMapOpts(max_=15),\n",
    " \n",
    "    )\n",
    "    .render()\n",
    ")"
   ]
  },
  {
   "cell_type": "code",
   "execution_count": 3,
   "id": "8614f3c5",
   "metadata": {},
   "outputs": [],
   "source": [
    "world1910=pd.read_csv('1910.csv')\n",
    "city=np.array(world1910['Country']).tolist()\n",
    "value=np.array(world1910['AverageTemperature']).tolist()"
   ]
  },
  {
   "cell_type": "code",
   "execution_count": 4,
   "id": "d8810bd8",
   "metadata": {},
   "outputs": [],
   "source": [
    "# world2010=pd.read_csv('C:/Users/Tony/Desktop/2010.csv')\n",
    "# value=np.array(world2010['AverageTemperature']).tolist()\n",
    "# attr=np.array(world2010['Country']).tolist()"
   ]
  },
  {
   "cell_type": "code",
   "execution_count": 5,
   "id": "7d6eae3f",
   "metadata": {},
   "outputs": [],
   "source": [
    "# data = []\n",
    "# for i in range(len(attr)):\n",
    "#     city_ionfo=[attr[i],value[i]]\n",
    "#     data.append(city_ionfo)"
   ]
  },
  {
   "cell_type": "code",
   "execution_count": 6,
   "id": "bc971ee9",
   "metadata": {},
   "outputs": [],
   "source": [
    "# c = (\n",
    "#     Map()\n",
    "#     .add(\"heatmap\",data, \"world\")\n",
    "#     .set_series_opts(label_opts=opts.LabelOpts(is_show=False))\n",
    "#     .set_global_opts(\n",
    "#         title_opts=opts.TitleOpts(title=\"Global_AverageTemperature\"),\n",
    "#         visualmap_opts=opts.VisualMapOpts(max_=15),\n",
    " \n",
    "#     )\n",
    "#     .render()\n",
    "# )"
   ]
  },
  {
   "cell_type": "code",
   "execution_count": 7,
   "id": "604a5eea",
   "metadata": {},
   "outputs": [],
   "source": [
    "worldmap_draw(city,value)"
   ]
  }
 ],
 "metadata": {
  "kernelspec": {
   "display_name": "Python 3 (ipykernel)",
   "language": "python",
   "name": "python3"
  },
  "language_info": {
   "codemirror_mode": {
    "name": "ipython",
    "version": 3
   },
   "file_extension": ".py",
   "mimetype": "text/x-python",
   "name": "python",
   "nbconvert_exporter": "python",
   "pygments_lexer": "ipython3",
   "version": "3.8.2"
  }
 },
 "nbformat": 4,
 "nbformat_minor": 5
}
